{
 "cells": [
  {
   "cell_type": "markdown",
   "id": "2b37f9ee-817f-4aed-8b0a-5f77b94f97d2",
   "metadata": {},
   "source": [
    "# Imports"
   ]
  },
  {
   "cell_type": "code",
   "execution_count": 1,
   "id": "569f924f-a4d7-4d31-bdcf-4b735e617e24",
   "metadata": {},
   "outputs": [],
   "source": [
    "import re\n",
    "import pandas as pd\n",
    "import numpy as np\n",
    "import matplotlib.pyplot as plt\n",
    "from scipy.optimize import root, minimize, root_scalar, minimize_scalar\n",
    "from scipy.linalg import solve_discrete_lyapunov, block_diag\n",
    "from scipy.signal import correlate, hilbert, spectrogram, periodogram, welch\n",
    "from sklearn.base import BaseEstimator\n",
    "from scipy.special import factorial\n",
    "import warnings\n",
    "warnings.filterwarnings(\"ignore\", category=RuntimeWarning)\n",
    "# warnings.filterwarnings(\"default\", category=RuntimeWarning)\n"
   ]
  },
  {
   "cell_type": "code",
   "execution_count": 2,
   "id": "4373f700-0349-4208-8c97-0f359e041c80",
   "metadata": {},
   "outputs": [],
   "source": [
    "from helpers import *"
   ]
  },
  {
   "cell_type": "code",
   "execution_count": null,
   "id": "bb7e079f-1aa6-4cef-9c27-ba06b14d0b51",
   "metadata": {},
   "outputs": [],
   "source": []
  },
  {
   "cell_type": "code",
   "execution_count": null,
   "id": "cf18a16e-af2a-4f01-9094-b2d6d36669df",
   "metadata": {},
   "outputs": [],
   "source": []
  },
  {
   "cell_type": "code",
   "execution_count": null,
   "id": "aa4d2890-0fbe-4e72-b70e-5f915d18ebaf",
   "metadata": {},
   "outputs": [],
   "source": []
  },
  {
   "cell_type": "code",
   "execution_count": 60,
   "id": "e58a7e12-081f-41f4-88be-cd89744b9c6a",
   "metadata": {},
   "outputs": [
    {
     "data": {
      "text/plain": [
       "(array([[0.50422843],\n",
       "        [0.4890948 ],\n",
       "        [0.45519576],\n",
       "        [0.45614705]]),\n",
       " array([[0.0410645 , 0.35902294, 0.19977536, 0.86683911],\n",
       "        [0.4260618 , 0.62195357, 0.52827705, 0.41158793],\n",
       "        [0.43011851, 0.57890305, 0.40988768, 0.63674777],\n",
       "        [0.62045243, 0.31752623, 0.11477209, 0.96152391]]))"
      ]
     },
     "execution_count": 60,
     "metadata": {},
     "output_type": "execute_result"
    }
   ],
   "source": [
    "order = 3\n",
    "dN_k = 1\n",
    "mu = -3.5\n",
    "beta = np.array([1,0,1,0]).reshape(1,-1)\n",
    "xp_k = np.random.random(size=(4,1))\n",
    "Pp_k = np.random.random(size=(4,4))\n",
    "xp_k, Pp_k"
   ]
  },
  {
   "cell_type": "code",
   "execution_count": 111,
   "id": "720f83e6-a0c0-40ec-a31e-fffd0afa2638",
   "metadata": {},
   "outputs": [],
   "source": [
    "def trial(xp_k, Pp_k, dN_k, mu, beta, order = 3):\n",
    "    exponents = []\n",
    "    signs = []\n",
    "    for n in range(0, order+1):\n",
    "        exp_term = (dN_k+n)*(mu + np.dot(beta, xp_k) + (dN_k+n)*np.linalg.multi_dot([beta, Pp_k, beta.T])/2) - gammaln(n + 1)\n",
    "        exponents.append(exp_term)\n",
    "        signs.append((-1)**n)\n",
    "    logval, logsign = logsumexp(np.array(exponents).squeeze(), b = np.array(signs), return_sign=True)\n",
    "    log_k = np.abs(logval)*logsign\n",
    "    return log_k\n",
    "\n",
    "#OOOF. What tf is going on here\n",
    "\n",
    "# exponents = np.array(exponents).squeeze()\n",
    "# max_exp = exponents.max()\n",
    "# summ = sum(np.array(signs)*np.exp(exponents - max_exp))\n",
    "# out_sign = np.sign(summ)\n",
    "# log_k = max_exp + np.log(np.abs(summ))\n",
    "# log_k\n"
   ]
  },
  {
   "cell_type": "code",
   "execution_count": null,
   "id": "852b906f-9c72-4855-82b9-3fc11ce3d281",
   "metadata": {},
   "outputs": [],
   "source": []
  },
  {
   "cell_type": "code",
   "execution_count": 104,
   "id": "345f67e3-5d2b-4e4d-8f8f-25db75462ab0",
   "metadata": {},
   "outputs": [],
   "source": [
    "def _k_likelihood(xp_k, Pp_k, dN_k, mu, beta, order = 3):\n",
    "    L = 0\n",
    "    for n in range(0, order+1):\n",
    "        # exp_term = (dN_k + n)*(mu + xp_k[0] + (dN_k + n)*Pp_k[0,0]/2)\n",
    "        exp_term = (dN_k+n)*(mu + np.dot(beta, xp_k) + (dN_k+n)*np.linalg.multi_dot([beta, Pp_k, beta.T])/2) - gammaln(n + 1)\n",
    "        L += ((-1)**n)*np.exp(exp_term)\n",
    "        # L += ((-1)**n/factorial(n))*np.exp(exp_term)\n",
    "    logL_k = np.log(L)\n",
    "    return logL_k.squeeze()"
   ]
  },
  {
   "cell_type": "code",
   "execution_count": 105,
   "id": "1eade2a7-5024-4a77-8cee-d30333213023",
   "metadata": {},
   "outputs": [
    {
     "data": {
      "text/plain": [
       "np.int64(0)"
      ]
     },
     "execution_count": 105,
     "metadata": {},
     "output_type": "execute_result"
    }
   ],
   "source": [
    "np.random.choice([0,1])"
   ]
  },
  {
   "cell_type": "code",
   "execution_count": null,
   "id": "beba1f5a-402c-4559-84c4-a19d2e8e2b97",
   "metadata": {},
   "outputs": [],
   "source": []
  },
  {
   "cell_type": "code",
   "execution_count": 106,
   "id": "574c6f3c-5731-4427-9ec6-8293630fb6d2",
   "metadata": {},
   "outputs": [
    {
     "name": "stdout",
     "output_type": "stream",
     "text": [
      "-0.8120690188708997 1.0\n",
      "True\n",
      "1.1169255056820475 -1.0\n",
      "False\n",
      "0.10709642040135825 -1.0\n",
      "False\n",
      "-1.168497614292502 1.0\n",
      "True\n",
      "-0.11602635678151185 -1.0\n",
      "False\n",
      "2.722899382196784 -1.0\n",
      "False\n",
      "-0.34380715255665695 1.0\n",
      "True\n",
      "-0.10379862199441195 1.0\n",
      "True\n",
      "3.3363995686602768 -1.0\n",
      "False\n",
      "6.813439338515943 -1.0\n",
      "False\n"
     ]
    }
   ],
   "source": [
    "for _ in range(10):\n",
    "    order = 3\n",
    "    dN_k = np.random.choice([0,1])\n",
    "    mu = -3.5\n",
    "    beta = np.array([1,0,1,0]).reshape(1,-1)\n",
    "    xp_k = np.random.random(size=(4,1))\n",
    "    Pp_k = np.random.random(size=(4,4))\n",
    "    xp_k, Pp_k\n",
    "    print(np.allclose(trial(xp_k, Pp_k, dN_k, mu, beta), _k_likelihood(xp_k, Pp_k, dN_k, mu, beta)))"
   ]
  },
  {
   "cell_type": "code",
   "execution_count": 107,
   "id": "009bc580-d9db-4aa8-b77c-bc0efe2bd7e6",
   "metadata": {},
   "outputs": [
    {
     "name": "stdout",
     "output_type": "stream",
     "text": [
      "6.813439338515943 -1.0\n"
     ]
    },
    {
     "data": {
      "text/plain": [
       "(np.float64(-6.813439338515943), array(nan))"
      ]
     },
     "execution_count": 107,
     "metadata": {},
     "output_type": "execute_result"
    }
   ],
   "source": [
    "trial(xp_k, Pp_k, dN_k, mu, beta), _k_likelihood(xp_k, Pp_k, dN_k, mu, beta)"
   ]
  },
  {
   "cell_type": "code",
   "execution_count": 108,
   "id": "09c10ba0-1338-4c19-86a5-d324089ae184",
   "metadata": {},
   "outputs": [
    {
     "data": {
      "text/plain": [
       "array(nan)"
      ]
     },
     "execution_count": 108,
     "metadata": {},
     "output_type": "execute_result"
    }
   ],
   "source": [
    "_k_likelihood(xp_k, Pp_k, dN_k, mu, beta)"
   ]
  },
  {
   "cell_type": "code",
   "execution_count": null,
   "id": "fe0b5fc4-a190-43fb-8988-61374a40668e",
   "metadata": {},
   "outputs": [],
   "source": []
  },
  {
   "cell_type": "code",
   "execution_count": null,
   "id": "f483e9ea-dcc6-4620-8442-25368fb73b5d",
   "metadata": {},
   "outputs": [],
   "source": []
  },
  {
   "cell_type": "code",
   "execution_count": 74,
   "id": "3fe6968c-dd2c-42d5-b4ab-3343a63d8137",
   "metadata": {},
   "outputs": [
    {
     "data": {
      "text/plain": [
       "np.True_"
      ]
     },
     "execution_count": 74,
     "metadata": {},
     "output_type": "execute_result"
    }
   ],
   "source": [
    "np.isclose(logsumexp(exponents, b = signs, return_sign=True)[0] , log_k)"
   ]
  },
  {
   "cell_type": "code",
   "execution_count": 75,
   "id": "244abff9-9ebb-4c40-8923-546cef593a0e",
   "metadata": {},
   "outputs": [
    {
     "data": {
      "text/plain": [
       "(np.float64(-2.5711389587816633), np.float64(1.0))"
      ]
     },
     "execution_count": 75,
     "metadata": {},
     "output_type": "execute_result"
    }
   ],
   "source": [
    "logsumexp(np.array(exponents).squeeze(), b = signs, return_sign=True)"
   ]
  },
  {
   "cell_type": "code",
   "execution_count": 41,
   "id": "55e93ccc-c674-4533-988a-203862b5db4a",
   "metadata": {},
   "outputs": [],
   "source": [
    "from scipy.special import loggamma, gammaln, logsumexp"
   ]
  },
  {
   "cell_type": "code",
   "execution_count": 17,
   "id": "6590cf8b-568c-4c84-830b-31628888cf6a",
   "metadata": {},
   "outputs": [
    {
     "data": {
      "text/plain": [
       "(np.float64(-1.791759469228055),\n",
       " np.float64(-1.791759469228055),\n",
       " np.float64(-1.791759469228055))"
      ]
     },
     "execution_count": 17,
     "metadata": {},
     "output_type": "execute_result"
    }
   ],
   "source": [
    "n = 3\n",
    "np.log(1/factorial(n)) , -loggamma(n+1), -gammaln(n+1)"
   ]
  },
  {
   "cell_type": "code",
   "execution_count": null,
   "id": "52bd8492-7371-42ff-ad88-84eb48f2caa6",
   "metadata": {},
   "outputs": [],
   "source": []
  },
  {
   "cell_type": "code",
   "execution_count": null,
   "id": "a76f571a-7cc0-4ff9-a869-7aaafc881632",
   "metadata": {},
   "outputs": [],
   "source": []
  },
  {
   "cell_type": "code",
   "execution_count": null,
   "id": "16645869-2123-4ee9-9a12-f68b5ceda267",
   "metadata": {},
   "outputs": [],
   "source": []
  },
  {
   "cell_type": "code",
   "execution_count": 5,
   "id": "c4b9d55e-c1cc-4a72-b943-63c2573f53d4",
   "metadata": {},
   "outputs": [
    {
     "ename": "NameError",
     "evalue": "name 'e' is not defined",
     "output_type": "error",
     "traceback": [
      "\u001b[31m---------------------------------------------------------------------------\u001b[39m",
      "\u001b[31mNameError\u001b[39m                                 Traceback (most recent call last)",
      "\u001b[36mCell\u001b[39m\u001b[36m \u001b[39m\u001b[32mIn[5]\u001b[39m\u001b[32m, line 1\u001b[39m\n\u001b[32m----> \u001b[39m\u001b[32m1\u001b[39m np.log(e)\n",
      "\u001b[31mNameError\u001b[39m: name 'e' is not defined"
     ]
    }
   ],
   "source": [
    "np.log(np.e)"
   ]
  },
  {
   "cell_type": "code",
   "execution_count": null,
   "id": "0d96315a-c974-4e42-93cc-b96277fb6669",
   "metadata": {},
   "outputs": [],
   "source": []
  },
  {
   "cell_type": "code",
   "execution_count": null,
   "id": "c72e406c-b518-4bc9-8e71-ad2d016371ac",
   "metadata": {},
   "outputs": [],
   "source": []
  },
  {
   "cell_type": "markdown",
   "id": "783cb73f-0365-428c-bdab-993008a31440",
   "metadata": {},
   "source": [
    "# Trials"
   ]
  },
  {
   "cell_type": "code",
   "execution_count": 3,
   "id": "bb2e1b47-5f14-4865-b814-1e774b9dd309",
   "metadata": {},
   "outputs": [],
   "source": [
    "def rotf(f, Fs):\n",
    "    '''Rotation matrix for a given oscillation frequency.\n",
    "    '''\n",
    "    if np.isscalar(f):\n",
    "        w = 2*np.pi*f/Fs\n",
    "        return np.array([[np.cos(w), -np.sin(w)], [np.sin(w), np.cos(w)]], dtype=np.float64)\n",
    "    elif np.asarray(f).squeeze().ndim == 1:\n",
    "        blocks = [rotf(freq, Fs) for freq in np.asarray(f).squeeze()]\n",
    "        # print(blocks, np.array(blocks).shape)\n",
    "        return block_diag(*blocks)\n",
    "    else:\n",
    "        raise AssertionError(f\"Input `f` must be a scalar or a 1D array-like, but got shape {np.asarray(f).shape}\")\n",
    "    "
   ]
  },
  {
   "cell_type": "code",
   "execution_count": 4,
   "id": "94d84d1b-8a85-4dad-9c4b-06712aaef01b",
   "metadata": {},
   "outputs": [],
   "source": [
    "rng = np.random.default_rng()"
   ]
  },
  {
   "cell_type": "code",
   "execution_count": 11,
   "id": "a1d605be-dce9-47ea-96c9-8358907873be",
   "metadata": {},
   "outputs": [
    {
     "name": "stdout",
     "output_type": "stream",
     "text": [
      "alphas:  [0.9972909628378613, 0.9977299699346035]\n",
      "sigmas:  [0.0001, 0.00015]\n",
      "osc Freqs:  [2, 8]\n"
     ]
    }
   ],
   "source": [
    "D = 2\n",
    "Fs = 1000\n",
    "N = 5000\n",
    "\n",
    "alphas  = [(0.9999 - 0.993)*rng.random() + 0.993 for i in range(D)]\n",
    "osc_F = [2, 8]\n",
    "sigmas = [0.0001, 0.00015]\n",
    "print('alphas: ',alphas)\n",
    "print('sigmas: ',sigmas)\n",
    "print('osc Freqs: ',osc_F)\n",
    "Qs = [sigma*np.eye(2) for sigma in sigmas]"
   ]
  },
  {
   "cell_type": "code",
   "execution_count": 12,
   "id": "fb6397f2-fc39-44c6-b678-79f7e1973a6f",
   "metadata": {},
   "outputs": [],
   "source": [
    "Q = block_diag(*Qs)\n",
    "R_full = rotf(osc_F, 1000)\n",
    "phi = np.repeat(alphas, 2)*R_full"
   ]
  },
  {
   "cell_type": "code",
   "execution_count": 13,
   "id": "3d7c2867-092a-47c4-bc4d-266f200aac8e",
   "metadata": {},
   "outputs": [],
   "source": [
    "U = rng.normal(0, scale=np.sqrt(np.repeat(sigmas, 2)).reshape(-1,1), size=(2*D,N))"
   ]
  },
  {
   "cell_type": "code",
   "execution_count": 14,
   "id": "96e1573f-70f7-4290-8387-815c7008c400",
   "metadata": {},
   "outputs": [],
   "source": [
    "X = np.zeros_like(U)"
   ]
  },
  {
   "cell_type": "code",
   "execution_count": 15,
   "id": "84f429d4-9e1e-40c9-a3d5-93cd280dc52c",
   "metadata": {},
   "outputs": [],
   "source": [
    "X[:, 0] = U[:, 0]\n",
    "for k in range(1,N):\n",
    "    X[:, k] = np.dot(phi, X[:, k-1]) + U[:, k-1]\n"
   ]
  },
  {
   "cell_type": "code",
   "execution_count": 21,
   "id": "c55bbd35-d2e4-416e-a8fd-f1c969a583af",
   "metadata": {},
   "outputs": [
    {
     "name": "stdout",
     "output_type": "stream",
     "text": [
      "mu :  -4.1345085593003095\n"
     ]
    }
   ],
   "source": [
    "mu = 4*rng.random() - 6\n",
    "print('mu : ', mu)\n",
    "mu = -3.5"
   ]
  },
  {
   "cell_type": "code",
   "execution_count": 22,
   "id": "1fbf6152-8d4b-46a6-93bb-67e6d2954f23",
   "metadata": {},
   "outputs": [
    {
     "data": {
      "text/plain": [
       "array([1, 0, 1, 0])"
      ]
     },
     "execution_count": 22,
     "metadata": {},
     "output_type": "execute_result"
    }
   ],
   "source": [
    "e_hat = np.tile([1,0], D)\n",
    "e_hat"
   ]
  },
  {
   "cell_type": "code",
   "execution_count": 23,
   "id": "4129b1b1-38df-4466-bac0-159ff9c4e2f9",
   "metadata": {},
   "outputs": [
    {
     "data": {
      "text/plain": [
       "(array([1, 0, 1, 0]), (4,))"
      ]
     },
     "execution_count": 23,
     "metadata": {},
     "output_type": "execute_result"
    }
   ],
   "source": [
    "beta = np.repeat([1, 1], 2)\n",
    "beta*e_hat, (e_hat*beta).shape "
   ]
  },
  {
   "cell_type": "code",
   "execution_count": 24,
   "id": "ae114d41-4204-4116-a6fd-16b957e15482",
   "metadata": {},
   "outputs": [
    {
     "data": {
      "text/plain": [
       "array([0.0172164])"
      ]
     },
     "execution_count": 24,
     "metadata": {},
     "output_type": "execute_result"
    }
   ],
   "source": [
    "np.dot(beta*e_hat, X[:, 0:1])"
   ]
  },
  {
   "cell_type": "code",
   "execution_count": 25,
   "id": "f960846c-561a-43d1-801e-6aad5fcf5576",
   "metadata": {},
   "outputs": [
    {
     "data": {
      "text/plain": [
       "(1, 4)"
      ]
     },
     "execution_count": 25,
     "metadata": {},
     "output_type": "execute_result"
    }
   ],
   "source": [
    "beta = (e_hat*beta).reshape(1, -1)\n",
    "beta.shape"
   ]
  },
  {
   "cell_type": "code",
   "execution_count": 26,
   "id": "f1b9dc93-61ce-41fe-82c9-32a4bfc5840c",
   "metadata": {},
   "outputs": [],
   "source": [
    "obs = np.exp(mu + np.dot(beta, X))"
   ]
  },
  {
   "cell_type": "code",
   "execution_count": 27,
   "id": "515c7c6d-3562-4a44-a34d-498313f1b19f",
   "metadata": {},
   "outputs": [],
   "source": [
    "y = np.zeros_like(obs)\n",
    "for i, yi in enumerate(obs[0]):\n",
    "    if yi > rng.random():\n",
    "        y[:, i] = 1"
   ]
  },
  {
   "cell_type": "code",
   "execution_count": 28,
   "id": "e0bbe5a9-5d33-423b-991c-2c167ec053eb",
   "metadata": {},
   "outputs": [
    {
     "data": {
      "text/plain": [
       "np.float64(31.0)"
      ]
     },
     "execution_count": 28,
     "metadata": {},
     "output_type": "execute_result"
    }
   ],
   "source": [
    "np.mean(y)*Fs"
   ]
  },
  {
   "cell_type": "code",
   "execution_count": 29,
   "id": "81d12701-81ff-45c6-aa10-0eb4e1de2c3c",
   "metadata": {},
   "outputs": [
    {
     "data": {
      "text/plain": [
       "<matplotlib.collections.LineCollection at 0x1a4f5812270>"
      ]
     },
     "execution_count": 29,
     "metadata": {},
     "output_type": "execute_result"
    },
    {
     "data": {
      "image/png": "[encoded data removed]",
      "text/plain": [
       "<Figure size 1200x400 with 1 Axes>"
      ]
     },
     "metadata": {},
     "output_type": "display_data"
    }
   ],
   "source": [
    "plt.figure(figsize=(12, 4))\n",
    "plt.plot(obs[0])\n",
    "plt.vlines(np.where(y[0]), ymin = 0, ymax= 0.5 , ls='--', color='k', lw = 0.5)"
   ]
  },
  {
   "cell_type": "code",
   "execution_count": 30,
   "id": "d3daa1b2-3671-4c77-8017-bb8e8adafcdf",
   "metadata": {},
   "outputs": [
    {
     "data": {
      "text/plain": [
       "[2, 8]"
      ]
     },
     "execution_count": 30,
     "metadata": {},
     "output_type": "execute_result"
    }
   ],
   "source": [
    "osc_F"
   ]
  },
  {
   "cell_type": "code",
   "execution_count": 31,
   "id": "80535049-8a11-4eb7-b637-5e9c145b7683",
   "metadata": {},
   "outputs": [
    {
     "data": {
      "text/plain": [
       "(1, 5000)"
      ]
     },
     "execution_count": 31,
     "metadata": {},
     "output_type": "execute_result"
    }
   ],
   "source": [
    "y.shape"
   ]
  },
  {
   "cell_type": "code",
   "execution_count": 32,
   "id": "e6a59058-57bb-41eb-bf22-fdeea0b488de",
   "metadata": {},
   "outputs": [
    {
     "data": {
      "text/plain": [
       "(1, 4)"
      ]
     },
     "execution_count": 32,
     "metadata": {},
     "output_type": "execute_result"
    }
   ],
   "source": [
    "beta.shape"
   ]
  },
  {
   "cell_type": "code",
   "execution_count": 33,
   "id": "9d872bfa-8b7e-4831-b213-a28ec1f023b6",
   "metadata": {},
   "outputs": [
    {
     "data": {
      "text/plain": [
       "(4, 1)"
      ]
     },
     "execution_count": 33,
     "metadata": {},
     "output_type": "execute_result"
    }
   ],
   "source": [
    "x0 = X[:, 0:1]\n",
    "x0.shape"
   ]
  },
  {
   "cell_type": "code",
   "execution_count": 34,
   "id": "19a98bae-be54-47c6-a401-e51c9ab27ec5",
   "metadata": {},
   "outputs": [
    {
     "data": {
      "text/plain": [
       "(-3.5,\n",
       " [0.9972909628378613, 0.9977299699346035],\n",
       " [2, 8],\n",
       " [0.0001, 0.00015],\n",
       " array([[1, 0, 1, 0]]))"
      ]
     },
     "execution_count": 34,
     "metadata": {},
     "output_type": "execute_result"
    }
   ],
   "source": [
    "mu, alphas, osc_F, sigmas, beta"
   ]
  },
  {
   "cell_type": "code",
   "execution_count": 35,
   "id": "22c9b660-2bb3-4810-85d6-e76ff77b3803",
   "metadata": {},
   "outputs": [],
   "source": [
    "mu0 = -3\n",
    "alpha0 = [0.99, 0.99]\n",
    "freq0 = [1,7]\n",
    "sigma0 = [0.001, 0.001]"
   ]
  },
  {
   "cell_type": "code",
   "execution_count": 36,
   "id": "9e04070b-8676-4784-b32a-d409c006fbad",
   "metadata": {},
   "outputs": [],
   "source": [
    "from EM_multi import EMEstimator"
   ]
  },
  {
   "cell_type": "code",
   "execution_count": 37,
   "id": "1c7878c6-c6cc-4d6a-a0a1-a95b9499c60f",
   "metadata": {},
   "outputs": [],
   "source": [
    "model = EMEstimator(x0, mu0, alpha0, freq0, sigma0, beta, Fs, D)"
   ]
  },
  {
   "cell_type": "code",
   "execution_count": 38,
   "id": "d87e1a20-90a2-4ede-8696-0378f17ee452",
   "metadata": {},
   "outputs": [
    {
     "name": "stdout",
     "output_type": "stream",
     "text": [
      "10 20 "
     ]
    }
   ],
   "source": [
    "param_history, E_steps, params_hat, error_log, inits = model._em_algorithm(x0, y, mu0, alpha0, freq0, sigma0, beta, max_iter = 20, log_file = 'multi_params.csv')"
   ]
  },
  {
   "cell_type": "code",
   "execution_count": 47,
   "id": "4b3f6b81-c171-428d-b1fa-cd3ae1c45c57",
   "metadata": {},
   "outputs": [
    {
     "data": {
      "text/plain": [
       "(20, array([[1, 0, 1, 0]]))"
      ]
     },
     "execution_count": 47,
     "metadata": {},
     "output_type": "execute_result"
    }
   ],
   "source": [
    "len(E_steps['x_p']), beta"
   ]
  },
  {
   "cell_type": "code",
   "execution_count": 59,
   "id": "e448f880-5cba-4e41-b893-9bc09d2675fb",
   "metadata": {},
   "outputs": [
    {
     "data": {
      "image/png": "[encoded data removed]",
      "text/plain": [
       "<Figure size 600x400 with 1 Axes>"
      ]
     },
     "metadata": {},
     "output_type": "display_data"
    }
   ],
   "source": [
    "score = []\n",
    "iterations = list(range(0, len(E_steps['x_p'])+1))\n",
    "\n",
    "for itr in iterations:\n",
    "    mu_itr = param_history.loc[itr, 'mu_']\n",
    "    \n",
    "    xp_itr = E_steps['x_p'][itr-1]\n",
    "    Pp_itr = E_steps['P_p'][itr-1]\n",
    "\n",
    "    # score_val = model._log_likelihood(xp_itr, Pp_itr, y, mu_itr, beta)\n",
    "    logL = 0\n",
    "    for k in range(N):\n",
    "        logL += model._k_likelihood(xp_itr[:, k:k+1], Pp_itr[..., k], y[:, k], mu_itr, beta)\n",
    "    score.append(logL)\n",
    "\n",
    "plt.figure(figsize=(6, 4))\n",
    "plt.plot(iterations, score, marker='o')\n",
    "plt.xlabel(\"EM Iteration\")\n",
    "plt.ylabel(\"Log-likelihood\")\n",
    "plt.title(\"Score (Log-likelihood) History\")\n",
    "plt.tight_layout()\n",
    "plt.show()"
   ]
  },
  {
   "cell_type": "code",
   "execution_count": null,
   "id": "02cd235e-3f7d-4f3d-afca-5263509014f8",
   "metadata": {},
   "outputs": [],
   "source": []
  },
  {
   "cell_type": "code",
   "execution_count": null,
   "id": "8b37cdc9-0193-422d-bd40-0120f1fdce17",
   "metadata": {},
   "outputs": [],
   "source": []
  },
  {
   "cell_type": "code",
   "execution_count": null,
   "id": "e93e9578-d67a-4a8e-8d1a-b6b73f56f0e9",
   "metadata": {},
   "outputs": [],
   "source": []
  },
  {
   "cell_type": "code",
   "execution_count": null,
   "id": "dd472a94-d805-4550-8385-5b7ff75b1bee",
   "metadata": {},
   "outputs": [],
   "source": []
  },
  {
   "cell_type": "code",
   "execution_count": 39,
   "id": "1679c7c2-8dbb-43ff-aee9-000c1f8b5fba",
   "metadata": {},
   "outputs": [
    {
     "ename": "NotFittedError",
     "evalue": "This EMEstimator instance is not fitted yet. Call 'fit' with appropriate arguments before using this estimator.",
     "output_type": "error",
     "traceback": [
      "\u001b[31m---------------------------------------------------------------------------\u001b[39m",
      "\u001b[31mNotFittedError\u001b[39m                            Traceback (most recent call last)",
      "\u001b[36mCell\u001b[39m\u001b[36m \u001b[39m\u001b[32mIn[39]\u001b[39m\u001b[32m, line 2\u001b[39m\n\u001b[32m      1\u001b[39m \u001b[38;5;28;01mtry\u001b[39;00m:\n\u001b[32m----> \u001b[39m\u001b[32m2\u001b[39m     model.plot_score_history(y, step=\u001b[32m1\u001b[39m)\n\u001b[32m      3\u001b[39m \u001b[38;5;28;01mexcept\u001b[39;00m:\n",
      "\u001b[36mFile \u001b[39m\u001b[32m~\\Documents\\NBRC 2024\\Codes\\EM_multi.py:158\u001b[39m, in \u001b[36mEMEstimator.plot_score_history\u001b[39m\u001b[34m(self, y, beta, step, order, ret)\u001b[39m\n\u001b[32m    145\u001b[39m \u001b[38;5;250m\u001b[39m\u001b[33;03m\"\"\"Plots the log-likelihood score history over EM iterations.\u001b[39;00m\n\u001b[32m    146\u001b[39m \u001b[33;03m\u001b[39;00m\n\u001b[32m    147\u001b[39m \u001b[33;03mParameters\u001b[39;00m\n\u001b[32m   (...)\u001b[39m\u001b[32m    156\u001b[39m \u001b[33;03m    Order for the log-likelihood approximation. Default is 3.\u001b[39;00m\n\u001b[32m    157\u001b[39m \u001b[33;03m\"\"\"\u001b[39;00m\n\u001b[32m--> \u001b[39m\u001b[32m158\u001b[39m check_is_fitted(\u001b[38;5;28mself\u001b[39m, [\u001b[33m'\u001b[39m\u001b[33m_param_history\u001b[39m\u001b[33m'\u001b[39m, \u001b[33m'\u001b[39m\u001b[33m_x_p_history\u001b[39m\u001b[33m'\u001b[39m, \u001b[33m'\u001b[39m\u001b[33m_P_p_history\u001b[39m\u001b[33m'\u001b[39m])\n\u001b[32m    160\u001b[39m \u001b[38;5;28;01mif\u001b[39;00m beta \u001b[38;5;129;01mis\u001b[39;00m \u001b[38;5;28;01mNone\u001b[39;00m:\n",
      "\u001b[36mFile \u001b[39m\u001b[32m~\\.conda\\envs\\nbrc\\Lib\\site-packages\\sklearn\\utils\\validation.py:1757\u001b[39m, in \u001b[36mcheck_is_fitted\u001b[39m\u001b[34m(estimator, attributes, msg, all_or_any)\u001b[39m\n\u001b[32m   1756\u001b[39m \u001b[38;5;28;01mif\u001b[39;00m \u001b[38;5;129;01mnot\u001b[39;00m _is_fitted(estimator, attributes, all_or_any):\n\u001b[32m-> \u001b[39m\u001b[32m1757\u001b[39m     \u001b[38;5;28;01mraise\u001b[39;00m NotFittedError(msg % {\u001b[33m\"\u001b[39m\u001b[33mname\u001b[39m\u001b[33m\"\u001b[39m: \u001b[38;5;28mtype\u001b[39m(estimator).\u001b[34m__name__\u001b[39m})\n",
      "\u001b[31mNotFittedError\u001b[39m: This EMEstimator instance is not fitted yet. Call 'fit' with appropriate arguments before using this estimator.",
      "\nDuring handling of the above exception, another exception occurred:\n",
      "\u001b[31mNotFittedError\u001b[39m                            Traceback (most recent call last)",
      "\u001b[36mCell\u001b[39m\u001b[36m \u001b[39m\u001b[32mIn[39]\u001b[39m\u001b[32m, line 4\u001b[39m\n\u001b[32m      2\u001b[39m     model.plot_score_history(y, step=\u001b[32m1\u001b[39m)\n\u001b[32m      3\u001b[39m \u001b[38;5;28;01mexcept\u001b[39;00m:\n\u001b[32m----> \u001b[39m\u001b[32m4\u001b[39m     model.plot_score_history(y[\u001b[32m0\u001b[39m], step=\u001b[32m1\u001b[39m)\n",
      "\u001b[36mFile \u001b[39m\u001b[32m~\\Documents\\NBRC 2024\\Codes\\EM_multi.py:158\u001b[39m, in \u001b[36mEMEstimator.plot_score_history\u001b[39m\u001b[34m(self, y, beta, step, order, ret)\u001b[39m\n\u001b[32m    144\u001b[39m \u001b[38;5;28;01mdef\u001b[39;00m\u001b[38;5;250m \u001b[39m\u001b[34mplot_score_history\u001b[39m(\u001b[38;5;28mself\u001b[39m, y, beta=\u001b[38;5;28;01mNone\u001b[39;00m, step=\u001b[32m10\u001b[39m, order=\u001b[32m3\u001b[39m, ret=\u001b[38;5;28;01mFalse\u001b[39;00m):\n\u001b[32m    145\u001b[39m \u001b[38;5;250m    \u001b[39m\u001b[33;03m\"\"\"Plots the log-likelihood score history over EM iterations.\u001b[39;00m\n\u001b[32m    146\u001b[39m \u001b[33;03m\u001b[39;00m\n\u001b[32m    147\u001b[39m \u001b[33;03m    Parameters\u001b[39;00m\n\u001b[32m   (...)\u001b[39m\u001b[32m    156\u001b[39m \u001b[33;03m        Order for the log-likelihood approximation. Default is 3.\u001b[39;00m\n\u001b[32m    157\u001b[39m \u001b[33;03m    \"\"\"\u001b[39;00m\n\u001b[32m--> \u001b[39m\u001b[32m158\u001b[39m     check_is_fitted(\u001b[38;5;28mself\u001b[39m, [\u001b[33m'\u001b[39m\u001b[33m_param_history\u001b[39m\u001b[33m'\u001b[39m, \u001b[33m'\u001b[39m\u001b[33m_x_p_history\u001b[39m\u001b[33m'\u001b[39m, \u001b[33m'\u001b[39m\u001b[33m_P_p_history\u001b[39m\u001b[33m'\u001b[39m])\n\u001b[32m    160\u001b[39m     \u001b[38;5;28;01mif\u001b[39;00m beta \u001b[38;5;129;01mis\u001b[39;00m \u001b[38;5;28;01mNone\u001b[39;00m:\n\u001b[32m    161\u001b[39m         beta = \u001b[38;5;28mself\u001b[39m.beta\n",
      "\u001b[36mFile \u001b[39m\u001b[32m~\\.conda\\envs\\nbrc\\Lib\\site-packages\\sklearn\\utils\\validation.py:1757\u001b[39m, in \u001b[36mcheck_is_fitted\u001b[39m\u001b[34m(estimator, attributes, msg, all_or_any)\u001b[39m\n\u001b[32m   1754\u001b[39m     \u001b[38;5;28;01mreturn\u001b[39;00m\n\u001b[32m   1756\u001b[39m \u001b[38;5;28;01mif\u001b[39;00m \u001b[38;5;129;01mnot\u001b[39;00m _is_fitted(estimator, attributes, all_or_any):\n\u001b[32m-> \u001b[39m\u001b[32m1757\u001b[39m     \u001b[38;5;28;01mraise\u001b[39;00m NotFittedError(msg % {\u001b[33m\"\u001b[39m\u001b[33mname\u001b[39m\u001b[33m\"\u001b[39m: \u001b[38;5;28mtype\u001b[39m(estimator).\u001b[34m__name__\u001b[39m})\n",
      "\u001b[31mNotFittedError\u001b[39m: This EMEstimator instance is not fitted yet. Call 'fit' with appropriate arguments before using this estimator."
     ]
    }
   ],
   "source": [
    "try:\n",
    "    model.plot_score_history(y, step=1)\n",
    "except:\n",
    "    model.plot_score_history(y[0], step=1)"
   ]
  },
  {
   "cell_type": "code",
   "execution_count": 38,
   "id": "aa53f44d-0b52-4052-b5cc-27bd498bd064",
   "metadata": {},
   "outputs": [
    {
     "data": {
      "text/plain": [
       "(50, 6, 6)"
      ]
     },
     "execution_count": 38,
     "metadata": {},
     "output_type": "execute_result"
    }
   ],
   "source": [
    "np.array(E_steps['B']).shape"
   ]
  },
  {
   "cell_type": "code",
   "execution_count": null,
   "id": "b91f87d7-d8db-4cce-ab76-fbc4a5c4b409",
   "metadata": {},
   "outputs": [],
   "source": [
    "plt.plot(E_steps['x_p'][10][0], axis1=1, axis2=2)"
   ]
  },
  {
   "cell_type": "code",
   "execution_count": 67,
   "id": "0726705f-4e40-4814-957a-23207d128cba",
   "metadata": {},
   "outputs": [
    {
     "data": {
      "text/plain": [
       "[<matplotlib.lines.Line2D at 0x1c635c72d50>]"
      ]
     },
     "execution_count": 67,
     "metadata": {},
     "output_type": "execute_result"
    },
    {
     "data": {
      "image/png": "[encoded data removed]",
      "text/plain": [
       "<Figure size 640x480 with 1 Axes>"
      ]
     },
     "metadata": {},
     "output_type": "display_data"
    }
   ],
   "source": [
    "# plt.plot(np.trace(np.array(E_steps['B']), axis1=1, axis2=2))\n",
    "# plt.plot(model._rt(np.array(E_steps['B'])))\n",
    "plt.plot(np.array(E_steps['B'])[:, 1, 0] - np.array(E_steps['B'])[:, 0, 1])\n",
    "# plt.plot(np.array(E_steps['B'])[:, 1, 0])\n",
    "# plt.plot(np.array(E_steps['B'])[:, 1, 1])\n",
    "# plt.plot(X[0])"
   ]
  },
  {
   "cell_type": "code",
   "execution_count": 76,
   "id": "146af037-4bbe-4ec2-bf9c-cbf1eafd141e",
   "metadata": {},
   "outputs": [
    {
     "data": {
      "text/plain": [
       "[<matplotlib.lines.Line2D at 0x1c6361f1450>]"
      ]
     },
     "execution_count": 76,
     "metadata": {},
     "output_type": "execute_result"
    },
    {
     "data": {
      "image/png": "[encoded data removed]",
      "text/plain": [
       "<Figure size 640x480 with 1 Axes>"
      ]
     },
     "metadata": {},
     "output_type": "display_data"
    }
   ],
   "source": [
    "plt.plot(np.array(E_steps['x_b'][6])[0])"
   ]
  },
  {
   "cell_type": "code",
   "execution_count": 32,
   "id": "188bc0d5-d887-45e3-8090-29558ba3a9bc",
   "metadata": {},
   "outputs": [
    {
     "data": {
      "text/html": [
       "<div>\n",
       "<style scoped>\n",
       "    .dataframe tbody tr th:only-of-type {\n",
       "        vertical-align: middle;\n",
       "    }\n",
       "\n",
       "    .dataframe tbody tr th {\n",
       "        vertical-align: top;\n",
       "    }\n",
       "\n",
       "    .dataframe thead th {\n",
       "        text-align: right;\n",
       "    }\n",
       "</style>\n",
       "<table border=\"1\" class=\"dataframe\">\n",
       "  <thead>\n",
       "    <tr style=\"text-align: right;\">\n",
       "      <th></th>\n",
       "      <th>mu_</th>\n",
       "      <th>alpha1_</th>\n",
       "      <th>alpha2_</th>\n",
       "      <th>alpha3_</th>\n",
       "      <th>freq1_</th>\n",
       "      <th>freq2_</th>\n",
       "      <th>freq3_</th>\n",
       "      <th>sigma1_</th>\n",
       "      <th>sigma2_</th>\n",
       "      <th>sigma3_</th>\n",
       "    </tr>\n",
       "  </thead>\n",
       "  <tbody>\n",
       "    <tr>\n",
       "      <th>0</th>\n",
       "      <td>-3</td>\n",
       "      <td>0.99</td>\n",
       "      <td>0.99</td>\n",
       "      <td>0.99</td>\n",
       "      <td>1</td>\n",
       "      <td>3</td>\n",
       "      <td>5</td>\n",
       "      <td>0.001</td>\n",
       "      <td>0.001</td>\n",
       "      <td>0.001</td>\n",
       "    </tr>\n",
       "    <tr>\n",
       "      <th>1</th>\n",
       "      <td>-3.50612</td>\n",
       "      <td>0.990989</td>\n",
       "      <td>0.990054</td>\n",
       "      <td>0.98975</td>\n",
       "      <td>-0.826808</td>\n",
       "      <td>-2.734789</td>\n",
       "      <td>-4.656701</td>\n",
       "      <td>0.001</td>\n",
       "      <td>0.001002</td>\n",
       "      <td>0.001005</td>\n",
       "    </tr>\n",
       "    <tr>\n",
       "      <th>2</th>\n",
       "      <td>-3.604148</td>\n",
       "      <td>0.990998</td>\n",
       "      <td>0.989998</td>\n",
       "      <td>0.989665</td>\n",
       "      <td>0.767916</td>\n",
       "      <td>2.582553</td>\n",
       "      <td>4.398463</td>\n",
       "      <td>0.001</td>\n",
       "      <td>0.001003</td>\n",
       "      <td>0.001009</td>\n",
       "    </tr>\n",
       "    <tr>\n",
       "      <th>3</th>\n",
       "      <td>-3.623926</td>\n",
       "      <td>0.99105</td>\n",
       "      <td>0.989991</td>\n",
       "      <td>0.98964</td>\n",
       "      <td>-0.712983</td>\n",
       "      <td>-2.438811</td>\n",
       "      <td>-4.152794</td>\n",
       "      <td>0.001</td>\n",
       "      <td>0.001004</td>\n",
       "      <td>0.001012</td>\n",
       "    </tr>\n",
       "    <tr>\n",
       "      <th>4</th>\n",
       "      <td>-3.628537</td>\n",
       "      <td>0.991114</td>\n",
       "      <td>0.989996</td>\n",
       "      <td>0.98963</td>\n",
       "      <td>0.661723</td>\n",
       "      <td>2.303142</td>\n",
       "      <td>3.921246</td>\n",
       "      <td>0.001</td>\n",
       "      <td>0.001005</td>\n",
       "      <td>0.001016</td>\n",
       "    </tr>\n",
       "  </tbody>\n",
       "</table>\n",
       "</div>"
      ],
      "text/plain": [
       "        mu_   alpha1_   alpha2_   alpha3_    freq1_    freq2_    freq3_  \\\n",
       "0        -3      0.99      0.99      0.99         1         3         5   \n",
       "1  -3.50612  0.990989  0.990054   0.98975 -0.826808 -2.734789 -4.656701   \n",
       "2 -3.604148  0.990998  0.989998  0.989665  0.767916  2.582553  4.398463   \n",
       "3 -3.623926   0.99105  0.989991   0.98964 -0.712983 -2.438811 -4.152794   \n",
       "4 -3.628537  0.991114  0.989996   0.98963  0.661723  2.303142  3.921246   \n",
       "\n",
       "  sigma1_   sigma2_   sigma3_  \n",
       "0   0.001     0.001     0.001  \n",
       "1   0.001  0.001002  0.001005  \n",
       "2   0.001  0.001003  0.001009  \n",
       "3   0.001  0.001004  0.001012  \n",
       "4   0.001  0.001005  0.001016  "
      ]
     },
     "execution_count": 32,
     "metadata": {},
     "output_type": "execute_result"
    }
   ],
   "source": [
    "param_history.head()"
   ]
  },
  {
   "cell_type": "code",
   "execution_count": 28,
   "id": "0abf3057-b35b-4219-9038-dcee90de3409",
   "metadata": {},
   "outputs": [
    {
     "data": {
      "image/png": "[encoded data removed]",
      "text/plain": [
       "<Figure size 1400x800 with 4 Axes>"
      ]
     },
     "metadata": {},
     "output_type": "display_data"
    }
   ],
   "source": [
    "param_names = ['mu', 'alpha', 'freq', 'sigma']\n",
    "true_params = [mu, alphas, osc_F, sigmas]\n",
    "\n",
    "fig, axs = plt.subplots(2, 2, figsize=(14, 8))\n",
    "\n",
    "for ix, (name, ax, true_val) in enumerate(zip(param_names, axs.ravel(), true_params)):\n",
    "    n_osc = np.asarray(true_val).size\n",
    "    if n_osc == 1:\n",
    "        ax.plot(param_history.filter(regex=name), label='Estimated', color='C0')\n",
    "        ax.axhline(true_val, color='C0', linestyle='--', label='True', lw=0.8)\n",
    "    else:\n",
    "        for phx, ci, true_n in zip(param_history.filter(regex=name).loc[1:].to_numpy().T, [f'C{i}' for i in range(n_osc)], true_val):\n",
    "            ax.plot(phx, label='Estimated', color=ci)\n",
    "            ax.axhline(true_n, color=ci, linestyle='--', label='True', lw=0.8)\n",
    "\n",
    "    ax.set_title(name)\n",
    "    # ax.legend()\n",
    "\n",
    "fig.supxlabel(\"EM Iteration\")\n",
    "fig.tight_layout()\n",
    "plt.show()"
   ]
  },
  {
   "cell_type": "code",
   "execution_count": null,
   "id": "021fa95a-02dd-4610-bd15-1ab62d54618d",
   "metadata": {},
   "outputs": [],
   "source": []
  },
  {
   "cell_type": "code",
   "execution_count": 64,
   "id": "4f1dcaa9-0bee-4297-b71d-3e9ac53f69bd",
   "metadata": {},
   "outputs": [],
   "source": [
    "def klikelihood(xp_k, Pp_k, dN_k, mu, beta, order = 3):\n",
    "    L = 0\n",
    "    for n in range(0, order+1):\n",
    "        exp_term = (dN_k + n)*(mu + np.dot(beta, xp_k) + (dN_k + n)*np.linalg.multi_dot([beta, Pp_k, beta.T])/2)\n",
    "        L += ((-1)**n/factorial(n))*np.exp(exp_term)\n",
    "    logL_k = np.log(L)\n",
    "    return logL_k\n",
    "        \n",
    "def log_likelihood(x_p, P_p, dN, mu, beta, order = 3):\n",
    "    K = dN.shape[-1]\n",
    "    logL = 0\n",
    "    for k in range(K):\n",
    "        logL += klikelihood(x_p[:, k], P_p[..., k], dN[k], mu, beta, order = order)\n",
    "    return logL"
   ]
  },
  {
   "cell_type": "code",
   "execution_count": 65,
   "id": "cf5563c8-d2db-412f-963a-56fd4cab2747",
   "metadata": {},
   "outputs": [
    {
     "data": {
      "text/html": [
       "<div>\n",
       "<style scoped>\n",
       "    .dataframe tbody tr th:only-of-type {\n",
       "        vertical-align: middle;\n",
       "    }\n",
       "\n",
       "    .dataframe tbody tr th {\n",
       "        vertical-align: top;\n",
       "    }\n",
       "\n",
       "    .dataframe thead th {\n",
       "        text-align: right;\n",
       "    }\n",
       "</style>\n",
       "<table border=\"1\" class=\"dataframe\">\n",
       "  <thead>\n",
       "    <tr style=\"text-align: right;\">\n",
       "      <th></th>\n",
       "      <th>mu_</th>\n",
       "      <th>alpha1_</th>\n",
       "      <th>alpha2_</th>\n",
       "      <th>alpha3_</th>\n",
       "      <th>freq1_</th>\n",
       "      <th>freq2_</th>\n",
       "      <th>freq3_</th>\n",
       "      <th>sigma1_</th>\n",
       "      <th>sigma2_</th>\n",
       "      <th>sigma3_</th>\n",
       "    </tr>\n",
       "  </thead>\n",
       "  <tbody>\n",
       "    <tr>\n",
       "      <th>0</th>\n",
       "      <td>-3</td>\n",
       "      <td>0.99</td>\n",
       "      <td>0.99</td>\n",
       "      <td>0.99</td>\n",
       "      <td>1</td>\n",
       "      <td>3</td>\n",
       "      <td>5</td>\n",
       "      <td>0.001</td>\n",
       "      <td>0.001</td>\n",
       "      <td>0.001</td>\n",
       "    </tr>\n",
       "    <tr>\n",
       "      <th>1</th>\n",
       "      <td>-3.504187</td>\n",
       "      <td>0.990915</td>\n",
       "      <td>0.989941</td>\n",
       "      <td>0.989656</td>\n",
       "      <td>-0.833349</td>\n",
       "      <td>-2.76798</td>\n",
       "      <td>-4.704909</td>\n",
       "      <td>0.001</td>\n",
       "      <td>0.001001</td>\n",
       "      <td>0.001004</td>\n",
       "    </tr>\n",
       "    <tr>\n",
       "      <th>2</th>\n",
       "      <td>-3.60068</td>\n",
       "      <td>0.990866</td>\n",
       "      <td>0.989738</td>\n",
       "      <td>0.989454</td>\n",
       "      <td>0.78127</td>\n",
       "      <td>2.660735</td>\n",
       "      <td>4.507118</td>\n",
       "      <td>0.001</td>\n",
       "      <td>0.001002</td>\n",
       "      <td>0.001007</td>\n",
       "    </tr>\n",
       "    <tr>\n",
       "      <th>3</th>\n",
       "      <td>-3.618993</td>\n",
       "      <td>0.990871</td>\n",
       "      <td>0.989585</td>\n",
       "      <td>0.989303</td>\n",
       "      <td>-0.731914</td>\n",
       "      <td>-2.559884</td>\n",
       "      <td>-4.323382</td>\n",
       "      <td>0.001</td>\n",
       "      <td>0.001003</td>\n",
       "      <td>0.00101</td>\n",
       "    </tr>\n",
       "    <tr>\n",
       "      <th>4</th>\n",
       "      <td>-3.622594</td>\n",
       "      <td>0.990892</td>\n",
       "      <td>0.989447</td>\n",
       "      <td>0.989164</td>\n",
       "      <td>0.685693</td>\n",
       "      <td>2.464858</td>\n",
       "      <td>4.152273</td>\n",
       "      <td>0.001</td>\n",
       "      <td>0.001003</td>\n",
       "      <td>0.001012</td>\n",
       "    </tr>\n",
       "  </tbody>\n",
       "</table>\n",
       "</div>"
      ],
      "text/plain": [
       "        mu_   alpha1_   alpha2_   alpha3_    freq1_    freq2_    freq3_  \\\n",
       "0        -3      0.99      0.99      0.99         1         3         5   \n",
       "1 -3.504187  0.990915  0.989941  0.989656 -0.833349  -2.76798 -4.704909   \n",
       "2  -3.60068  0.990866  0.989738  0.989454   0.78127  2.660735  4.507118   \n",
       "3 -3.618993  0.990871  0.989585  0.989303 -0.731914 -2.559884 -4.323382   \n",
       "4 -3.622594  0.990892  0.989447  0.989164  0.685693  2.464858  4.152273   \n",
       "\n",
       "  sigma1_   sigma2_   sigma3_  \n",
       "0   0.001     0.001     0.001  \n",
       "1   0.001  0.001001  0.001004  \n",
       "2   0.001  0.001002  0.001007  \n",
       "3   0.001  0.001003   0.00101  \n",
       "4   0.001  0.001003  0.001012  "
      ]
     },
     "execution_count": 65,
     "metadata": {},
     "output_type": "execute_result"
    }
   ],
   "source": [
    "param_history.head()"
   ]
  },
  {
   "cell_type": "code",
   "execution_count": null,
   "id": "481796f6-37ca-40ee-84c6-bd0835a015c9",
   "metadata": {},
   "outputs": [],
   "source": []
  },
  {
   "cell_type": "code",
   "execution_count": 66,
   "id": "1486af70-ef44-4ae9-a1b8-0179cbbcb0e0",
   "metadata": {},
   "outputs": [
    {
     "data": {
      "text/plain": [
       "array([[-0.03216501, -0.03216501, -0.03216501, ..., -0.03216501,\n",
       "        -0.03216501, -0.03216501]], shape=(1, 5000))"
      ]
     },
     "execution_count": 66,
     "metadata": {},
     "output_type": "execute_result"
    }
   ],
   "source": [
    "klikelihood(E_steps['x_p'][0][:, 2], E_steps['P_p'][0][..., 2], y[0], mu, beta)"
   ]
  },
  {
   "cell_type": "code",
   "execution_count": 52,
   "id": "81adef82-1dc0-4cc8-a0ac-55b40213639e",
   "metadata": {},
   "outputs": [
    {
     "ename": "TypeError",
     "evalue": "'int' object is not subscriptable",
     "output_type": "error",
     "traceback": [
      "\u001b[31m---------------------------------------------------------------------------\u001b[39m",
      "\u001b[31mTypeError\u001b[39m                                 Traceback (most recent call last)",
      "\u001b[36mCell\u001b[39m\u001b[36m \u001b[39m\u001b[32mIn[52]\u001b[39m\u001b[32m, line 14\u001b[39m\n\u001b[32m     11\u001b[39m     xp_itr = E_steps[\u001b[33m'\u001b[39m\u001b[33mx_p\u001b[39m\u001b[33m'\u001b[39m][itr-\u001b[32m1\u001b[39m]\n\u001b[32m     12\u001b[39m     Pp_itr = E_steps[\u001b[33m'\u001b[39m\u001b[33mP_p\u001b[39m\u001b[33m'\u001b[39m][itr-\u001b[32m1\u001b[39m]\n\u001b[32m---> \u001b[39m\u001b[32m14\u001b[39m     score_val = log_likelihood(y, mu_itr, xp_itr, Pp_itr, beta)\n\u001b[32m     15\u001b[39m     score.append(score_val)\n\u001b[32m     17\u001b[39m plt.figure(figsize=(\u001b[32m6\u001b[39m, \u001b[32m4\u001b[39m))\n",
      "\u001b[36mCell\u001b[39m\u001b[36m \u001b[39m\u001b[32mIn[50]\u001b[39m\u001b[32m, line 13\u001b[39m, in \u001b[36mlog_likelihood\u001b[39m\u001b[34m(x_p, P_p, dN, mu, beta, order)\u001b[39m\n\u001b[32m     11\u001b[39m logL = \u001b[32m0\u001b[39m\n\u001b[32m     12\u001b[39m \u001b[38;5;28;01mfor\u001b[39;00m k \u001b[38;5;129;01min\u001b[39;00m \u001b[38;5;28mrange\u001b[39m(K):\n\u001b[32m---> \u001b[39m\u001b[32m13\u001b[39m     logL += klikelihood(x_p[:, k], P_p[..., k], dN[k], mu, beta, order = order)\n\u001b[32m     14\u001b[39m \u001b[38;5;28;01mreturn\u001b[39;00m logL\n",
      "\u001b[31mTypeError\u001b[39m: 'int' object is not subscriptable"
     ]
    }
   ],
   "source": [
    "score = []\n",
    "iterations = list(range(0, len(E_steps['x_p'])+1))\n",
    "\n",
    "for itr in iterations:\n",
    "    mu_itr = param_history.loc[itr, 'mu_']\n",
    "    # alpha_itr = param_history.loc[itr, 'alpha_']\n",
    "    # F_itr = param_history.loc[itr, 'F_']\n",
    "    # omega_itr = param_history.loc[itr, 'omega_']\n",
    "    # sigma_itr = param_history.loc[itr, 'sigma_']\n",
    "    \n",
    "    xp_itr = E_steps['x_p'][itr-1]\n",
    "    Pp_itr = E_steps['P_p'][itr-1]\n",
    "\n",
    "    score_val = log_likelihood(y, mu_itr, xp_itr, Pp_itr, beta)\n",
    "    score.append(score_val)\n",
    "\n",
    "plt.figure(figsize=(6, 4))\n",
    "plt.plot(iterations, score, marker='o')\n",
    "plt.xlabel(\"EM Iteration\")\n",
    "plt.ylabel(\"Log-likelihood\")\n",
    "plt.title(\"Score (Log-likelihood) History\")\n",
    "plt.tight_layout()\n",
    "plt.show()\n"
   ]
  },
  {
   "cell_type": "code",
   "execution_count": null,
   "id": "67caac83-8861-4253-a611-b8d787fb7f47",
   "metadata": {},
   "outputs": [],
   "source": []
  },
  {
   "cell_type": "code",
   "execution_count": 41,
   "id": "62c74766-6d46-4766-9130-a50bf1334b35",
   "metadata": {},
   "outputs": [
    {
     "data": {
      "text/html": [
       "<style>#sk-container-id-1 {\n",
       "  /* Definition of color scheme common for light and dark mode */\n",
       "  --sklearn-color-text: #000;\n",
       "  --sklearn-color-text-muted: #666;\n",
       "  --sklearn-color-line: gray;\n",
       "  /* Definition of color scheme for unfitted estimators */\n",
       "  --sklearn-color-unfitted-level-0: #fff5e6;\n",
       "  --sklearn-color-unfitted-level-1: #f6e4d2;\n",
       "  --sklearn-color-unfitted-level-2: #ffe0b3;\n",
       "  --sklearn-color-unfitted-level-3: chocolate;\n",
       "  /* Definition of color scheme for fitted estimators */\n",
       "  --sklearn-color-fitted-level-0: #f0f8ff;\n",
       "  --sklearn-color-fitted-level-1: #d4ebff;\n",
       "  --sklearn-color-fitted-level-2: #b3dbfd;\n",
       "  --sklearn-color-fitted-level-3: cornflowerblue;\n",
       "\n",
       "  /* Specific color for light theme */\n",
       "  --sklearn-color-text-on-default-background: var(--sg-text-color, var(--theme-code-foreground, var(--jp-content-font-color1, black)));\n",
       "  --sklearn-color-background: var(--sg-background-color, var(--theme-background, var(--jp-layout-color0, white)));\n",
       "  --sklearn-color-border-box: var(--sg-text-color, var(--theme-code-foreground, var(--jp-content-font-color1, black)));\n",
       "  --sklearn-color-icon: #696969;\n",
       "\n",
       "  @media (prefers-color-scheme: dark) {\n",
       "    /* Redefinition of color scheme for dark theme */\n",
       "    --sklearn-color-text-on-default-background: var(--sg-text-color, var(--theme-code-foreground, var(--jp-content-font-color1, white)));\n",
       "    --sklearn-color-background: var(--sg-background-color, var(--theme-background, var(--jp-layout-color0, #111)));\n",
       "    --sklearn-color-border-box: var(--sg-text-color, var(--theme-code-foreground, var(--jp-content-font-color1, white)));\n",
       "    --sklearn-color-icon: #878787;\n",
       "  }\n",
       "}\n",
       "\n",
       "#sk-container-id-1 {\n",
       "  color: var(--sklearn-color-text);\n",
       "}\n",
       "\n",
       "#sk-container-id-1 pre {\n",
       "  padding: 0;\n",
       "}\n",
       "\n",
       "#sk-container-id-1 input.sk-hidden--visually {\n",
       "  border: 0;\n",
       "  clip: rect(1px 1px 1px 1px);\n",
       "  clip: rect(1px, 1px, 1px, 1px);\n",
       "  height: 1px;\n",
       "  margin: -1px;\n",
       "  overflow: hidden;\n",
       "  padding: 0;\n",
       "  position: absolute;\n",
       "  width: 1px;\n",
       "}\n",
       "\n",
       "#sk-container-id-1 div.sk-dashed-wrapped {\n",
       "  border: 1px dashed var(--sklearn-color-line);\n",
       "  margin: 0 0.4em 0.5em 0.4em;\n",
       "  box-sizing: border-box;\n",
       "  padding-bottom: 0.4em;\n",
       "  background-color: var(--sklearn-color-background);\n",
       "}\n",
       "\n",
       "#sk-container-id-1 div.sk-container {\n",
       "  /* jupyter's `normalize.less` sets `[hidden] { display: none; }`\n",
       "     but bootstrap.min.css set `[hidden] { display: none !important; }`\n",
       "     so we also need the `!important` here to be able to override the\n",
       "     default hidden behavior on the sphinx rendered scikit-learn.org.\n",
       "     See: https://github.com/scikit-learn/scikit-learn/issues/21755 */\n",
       "  display: inline-block !important;\n",
       "  position: relative;\n",
       "}\n",
       "\n",
       "#sk-container-id-1 div.sk-text-repr-fallback {\n",
       "  display: none;\n",
       "}\n",
       "\n",
       "div.sk-parallel-item,\n",
       "div.sk-serial,\n",
       "div.sk-item {\n",
       "  /* draw centered vertical line to link estimators */\n",
       "  background-image: linear-gradient(var(--sklearn-color-text-on-default-background), var(--sklearn-color-text-on-default-background));\n",
       "  background-size: 2px 100%;\n",
       "  background-repeat: no-repeat;\n",
       "  background-position: center center;\n",
       "}\n",
       "\n",
       "/* Parallel-specific style estimator block */\n",
       "\n",
       "#sk-container-id-1 div.sk-parallel-item::after {\n",
       "  content: \"\";\n",
       "  width: 100%;\n",
       "  border-bottom: 2px solid var(--sklearn-color-text-on-default-background);\n",
       "  flex-grow: 1;\n",
       "}\n",
       "\n",
       "#sk-container-id-1 div.sk-parallel {\n",
       "  display: flex;\n",
       "  align-items: stretch;\n",
       "  justify-content: center;\n",
       "  background-color: var(--sklearn-color-background);\n",
       "  position: relative;\n",
       "}\n",
       "\n",
       "#sk-container-id-1 div.sk-parallel-item {\n",
       "  display: flex;\n",
       "  flex-direction: column;\n",
       "}\n",
       "\n",
       "#sk-container-id-1 div.sk-parallel-item:first-child::after {\n",
       "  align-self: flex-end;\n",
       "  width: 50%;\n",
       "}\n",
       "\n",
       "#sk-container-id-1 div.sk-parallel-item:last-child::after {\n",
       "  align-self: flex-start;\n",
       "  width: 50%;\n",
       "}\n",
       "\n",
       "#sk-container-id-1 div.sk-parallel-item:only-child::after {\n",
       "  width: 0;\n",
       "}\n",
       "\n",
       "/* Serial-specific style estimator block */\n",
       "\n",
       "#sk-container-id-1 div.sk-serial {\n",
       "  display: flex;\n",
       "  flex-direction: column;\n",
       "  align-items: center;\n",
       "  background-color: var(--sklearn-color-background);\n",
       "  padding-right: 1em;\n",
       "  padding-left: 1em;\n",
       "}\n",
       "\n",
       "\n",
       "/* Toggleable style: style used for estimator/Pipeline/ColumnTransformer box that is\n",
       "clickable and can be expanded/collapsed.\n",
       "- Pipeline and ColumnTransformer use this feature and define the default style\n",
       "- Estimators will overwrite some part of the style using the `sk-estimator` class\n",
       "*/\n",
       "\n",
       "/* Pipeline and ColumnTransformer style (default) */\n",
       "\n",
       "#sk-container-id-1 div.sk-toggleable {\n",
       "  /* Default theme specific background. It is overwritten whether we have a\n",
       "  specific estimator or a Pipeline/ColumnTransformer */\n",
       "  background-color: var(--sklearn-color-background);\n",
       "}\n",
       "\n",
       "/* Toggleable label */\n",
       "#sk-container-id-1 label.sk-toggleable__label {\n",
       "  cursor: pointer;\n",
       "  display: flex;\n",
       "  width: 100%;\n",
       "  margin-bottom: 0;\n",
       "  padding: 0.5em;\n",
       "  box-sizing: border-box;\n",
       "  text-align: center;\n",
       "  align-items: start;\n",
       "  justify-content: space-between;\n",
       "  gap: 0.5em;\n",
       "}\n",
       "\n",
       "#sk-container-id-1 label.sk-toggleable__label .caption {\n",
       "  font-size: 0.6rem;\n",
       "  font-weight: lighter;\n",
       "  color: var(--sklearn-color-text-muted);\n",
       "}\n",
       "\n",
       "#sk-container-id-1 label.sk-toggleable__label-arrow:before {\n",
       "  /* Arrow on the left of the label */\n",
       "  content: \"▸\";\n",
       "  float: left;\n",
       "  margin-right: 0.25em;\n",
       "  color: var(--sklearn-color-icon);\n",
       "}\n",
       "\n",
       "#sk-container-id-1 label.sk-toggleable__label-arrow:hover:before {\n",
       "  color: var(--sklearn-color-text);\n",
       "}\n",
       "\n",
       "/* Toggleable content - dropdown */\n",
       "\n",
       "#sk-container-id-1 div.sk-toggleable__content {\n",
       "  max-height: 0;\n",
       "  max-width: 0;\n",
       "  overflow: hidden;\n",
       "  text-align: left;\n",
       "  /* unfitted */\n",
       "  background-color: var(--sklearn-color-unfitted-level-0);\n",
       "}\n",
       "\n",
       "#sk-container-id-1 div.sk-toggleable__content.fitted {\n",
       "  /* fitted */\n",
       "  background-color: var(--sklearn-color-fitted-level-0);\n",
       "}\n",
       "\n",
       "#sk-container-id-1 div.sk-toggleable__content pre {\n",
       "  margin: 0.2em;\n",
       "  border-radius: 0.25em;\n",
       "  color: var(--sklearn-color-text);\n",
       "  /* unfitted */\n",
       "  background-color: var(--sklearn-color-unfitted-level-0);\n",
       "}\n",
       "\n",
       "#sk-container-id-1 div.sk-toggleable__content.fitted pre {\n",
       "  /* unfitted */\n",
       "  background-color: var(--sklearn-color-fitted-level-0);\n",
       "}\n",
       "\n",
       "#sk-container-id-1 input.sk-toggleable__control:checked~div.sk-toggleable__content {\n",
       "  /* Expand drop-down */\n",
       "  max-height: 200px;\n",
       "  max-width: 100%;\n",
       "  overflow: auto;\n",
       "}\n",
       "\n",
       "#sk-container-id-1 input.sk-toggleable__control:checked~label.sk-toggleable__label-arrow:before {\n",
       "  content: \"▾\";\n",
       "}\n",
       "\n",
       "/* Pipeline/ColumnTransformer-specific style */\n",
       "\n",
       "#sk-container-id-1 div.sk-label input.sk-toggleable__control:checked~label.sk-toggleable__label {\n",
       "  color: var(--sklearn-color-text);\n",
       "  background-color: var(--sklearn-color-unfitted-level-2);\n",
       "}\n",
       "\n",
       "#sk-container-id-1 div.sk-label.fitted input.sk-toggleable__control:checked~label.sk-toggleable__label {\n",
       "  background-color: var(--sklearn-color-fitted-level-2);\n",
       "}\n",
       "\n",
       "/* Estimator-specific style */\n",
       "\n",
       "/* Colorize estimator box */\n",
       "#sk-container-id-1 div.sk-estimator input.sk-toggleable__control:checked~label.sk-toggleable__label {\n",
       "  /* unfitted */\n",
       "  background-color: var(--sklearn-color-unfitted-level-2);\n",
       "}\n",
       "\n",
       "#sk-container-id-1 div.sk-estimator.fitted input.sk-toggleable__control:checked~label.sk-toggleable__label {\n",
       "  /* fitted */\n",
       "  background-color: var(--sklearn-color-fitted-level-2);\n",
       "}\n",
       "\n",
       "#sk-container-id-1 div.sk-label label.sk-toggleable__label,\n",
       "#sk-container-id-1 div.sk-label label {\n",
       "  /* The background is the default theme color */\n",
       "  color: var(--sklearn-color-text-on-default-background);\n",
       "}\n",
       "\n",
       "/* On hover, darken the color of the background */\n",
       "#sk-container-id-1 div.sk-label:hover label.sk-toggleable__label {\n",
       "  color: var(--sklearn-color-text);\n",
       "  background-color: var(--sklearn-color-unfitted-level-2);\n",
       "}\n",
       "\n",
       "/* Label box, darken color on hover, fitted */\n",
       "#sk-container-id-1 div.sk-label.fitted:hover label.sk-toggleable__label.fitted {\n",
       "  color: var(--sklearn-color-text);\n",
       "  background-color: var(--sklearn-color-fitted-level-2);\n",
       "}\n",
       "\n",
       "/* Estimator label */\n",
       "\n",
       "#sk-container-id-1 div.sk-label label {\n",
       "  font-family: monospace;\n",
       "  font-weight: bold;\n",
       "  display: inline-block;\n",
       "  line-height: 1.2em;\n",
       "}\n",
       "\n",
       "#sk-container-id-1 div.sk-label-container {\n",
       "  text-align: center;\n",
       "}\n",
       "\n",
       "/* Estimator-specific */\n",
       "#sk-container-id-1 div.sk-estimator {\n",
       "  font-family: monospace;\n",
       "  border: 1px dotted var(--sklearn-color-border-box);\n",
       "  border-radius: 0.25em;\n",
       "  box-sizing: border-box;\n",
       "  margin-bottom: 0.5em;\n",
       "  /* unfitted */\n",
       "  background-color: var(--sklearn-color-unfitted-level-0);\n",
       "}\n",
       "\n",
       "#sk-container-id-1 div.sk-estimator.fitted {\n",
       "  /* fitted */\n",
       "  background-color: var(--sklearn-color-fitted-level-0);\n",
       "}\n",
       "\n",
       "/* on hover */\n",
       "#sk-container-id-1 div.sk-estimator:hover {\n",
       "  /* unfitted */\n",
       "  background-color: var(--sklearn-color-unfitted-level-2);\n",
       "}\n",
       "\n",
       "#sk-container-id-1 div.sk-estimator.fitted:hover {\n",
       "  /* fitted */\n",
       "  background-color: var(--sklearn-color-fitted-level-2);\n",
       "}\n",
       "\n",
       "/* Specification for estimator info (e.g. \"i\" and \"?\") */\n",
       "\n",
       "/* Common style for \"i\" and \"?\" */\n",
       "\n",
       ".sk-estimator-doc-link,\n",
       "a:link.sk-estimator-doc-link,\n",
       "a:visited.sk-estimator-doc-link {\n",
       "  float: right;\n",
       "  font-size: smaller;\n",
       "  line-height: 1em;\n",
       "  font-family: monospace;\n",
       "  background-color: var(--sklearn-color-background);\n",
       "  border-radius: 1em;\n",
       "  height: 1em;\n",
       "  width: 1em;\n",
       "  text-decoration: none !important;\n",
       "  margin-left: 0.5em;\n",
       "  text-align: center;\n",
       "  /* unfitted */\n",
       "  border: var(--sklearn-color-unfitted-level-1) 1pt solid;\n",
       "  color: var(--sklearn-color-unfitted-level-1);\n",
       "}\n",
       "\n",
       ".sk-estimator-doc-link.fitted,\n",
       "a:link.sk-estimator-doc-link.fitted,\n",
       "a:visited.sk-estimator-doc-link.fitted {\n",
       "  /* fitted */\n",
       "  border: var(--sklearn-color-fitted-level-1) 1pt solid;\n",
       "  color: var(--sklearn-color-fitted-level-1);\n",
       "}\n",
       "\n",
       "/* On hover */\n",
       "div.sk-estimator:hover .sk-estimator-doc-link:hover,\n",
       ".sk-estimator-doc-link:hover,\n",
       "div.sk-label-container:hover .sk-estimator-doc-link:hover,\n",
       ".sk-estimator-doc-link:hover {\n",
       "  /* unfitted */\n",
       "  background-color: var(--sklearn-color-unfitted-level-3);\n",
       "  color: var(--sklearn-color-background);\n",
       "  text-decoration: none;\n",
       "}\n",
       "\n",
       "div.sk-estimator.fitted:hover .sk-estimator-doc-link.fitted:hover,\n",
       ".sk-estimator-doc-link.fitted:hover,\n",
       "div.sk-label-container:hover .sk-estimator-doc-link.fitted:hover,\n",
       ".sk-estimator-doc-link.fitted:hover {\n",
       "  /* fitted */\n",
       "  background-color: var(--sklearn-color-fitted-level-3);\n",
       "  color: var(--sklearn-color-background);\n",
       "  text-decoration: none;\n",
       "}\n",
       "\n",
       "/* Span, style for the box shown on hovering the info icon */\n",
       ".sk-estimator-doc-link span {\n",
       "  display: none;\n",
       "  z-index: 9999;\n",
       "  position: relative;\n",
       "  font-weight: normal;\n",
       "  right: .2ex;\n",
       "  padding: .5ex;\n",
       "  margin: .5ex;\n",
       "  width: min-content;\n",
       "  min-width: 20ex;\n",
       "  max-width: 50ex;\n",
       "  color: var(--sklearn-color-text);\n",
       "  box-shadow: 2pt 2pt 4pt #999;\n",
       "  /* unfitted */\n",
       "  background: var(--sklearn-color-unfitted-level-0);\n",
       "  border: .5pt solid var(--sklearn-color-unfitted-level-3);\n",
       "}\n",
       "\n",
       ".sk-estimator-doc-link.fitted span {\n",
       "  /* fitted */\n",
       "  background: var(--sklearn-color-fitted-level-0);\n",
       "  border: var(--sklearn-color-fitted-level-3);\n",
       "}\n",
       "\n",
       ".sk-estimator-doc-link:hover span {\n",
       "  display: block;\n",
       "}\n",
       "\n",
       "/* \"?\"-specific style due to the `<a>` HTML tag */\n",
       "\n",
       "#sk-container-id-1 a.estimator_doc_link {\n",
       "  float: right;\n",
       "  font-size: 1rem;\n",
       "  line-height: 1em;\n",
       "  font-family: monospace;\n",
       "  background-color: var(--sklearn-color-background);\n",
       "  border-radius: 1rem;\n",
       "  height: 1rem;\n",
       "  width: 1rem;\n",
       "  text-decoration: none;\n",
       "  /* unfitted */\n",
       "  color: var(--sklearn-color-unfitted-level-1);\n",
       "  border: var(--sklearn-color-unfitted-level-1) 1pt solid;\n",
       "}\n",
       "\n",
       "#sk-container-id-1 a.estimator_doc_link.fitted {\n",
       "  /* fitted */\n",
       "  border: var(--sklearn-color-fitted-level-1) 1pt solid;\n",
       "  color: var(--sklearn-color-fitted-level-1);\n",
       "}\n",
       "\n",
       "/* On hover */\n",
       "#sk-container-id-1 a.estimator_doc_link:hover {\n",
       "  /* unfitted */\n",
       "  background-color: var(--sklearn-color-unfitted-level-3);\n",
       "  color: var(--sklearn-color-background);\n",
       "  text-decoration: none;\n",
       "}\n",
       "\n",
       "#sk-container-id-1 a.estimator_doc_link.fitted:hover {\n",
       "  /* fitted */\n",
       "  background-color: var(--sklearn-color-fitted-level-3);\n",
       "}\n",
       "</style><div id=\"sk-container-id-1\" class=\"sk-top-container\"><div class=\"sk-text-repr-fallback\"><pre>EMEstimator(Fs=1000, alpha0=[0.99, 0.99, 0.99], am=np.float64(57.2),\n",
       "            beta=array([[1, 0, 1, 0, 1, 0]]), bm=2000, freq0=[1, 3, 5], mu0=-3,\n",
       "            n_oscillations=3, sigma0=[0.001, 0.001, 0.001],\n",
       "            x0=array([[ 0.00615151],\n",
       "       [ 0.00864995],\n",
       "       [-0.0061608 ],\n",
       "       [ 0.00960439],\n",
       "       [-0.00139633],\n",
       "       [-0.00123097]]))</pre><b>In a Jupyter environment, please rerun this cell to show the HTML representation or trust the notebook. <br />On GitHub, the HTML representation is unable to render, please try loading this page with nbviewer.org.</b></div><div class=\"sk-container\" hidden><div class=\"sk-item\"><div class=\"sk-estimator  sk-toggleable\"><input class=\"sk-toggleable__control sk-hidden--visually\" id=\"sk-estimator-id-1\" type=\"checkbox\" checked><label for=\"sk-estimator-id-1\" class=\"sk-toggleable__label  sk-toggleable__label-arrow\"><div><div>EMEstimator</div></div><div><span class=\"sk-estimator-doc-link \">i<span>Not fitted</span></span></div></label><div class=\"sk-toggleable__content \"><pre>EMEstimator(Fs=1000, alpha0=[0.99, 0.99, 0.99], am=np.float64(57.2),\n",
       "            beta=array([[1, 0, 1, 0, 1, 0]]), bm=2000, freq0=[1, 3, 5], mu0=-3,\n",
       "            n_oscillations=3, sigma0=[0.001, 0.001, 0.001],\n",
       "            x0=array([[ 0.00615151],\n",
       "       [ 0.00864995],\n",
       "       [-0.0061608 ],\n",
       "       [ 0.00960439],\n",
       "       [-0.00139633],\n",
       "       [-0.00123097]]))</pre></div> </div></div></div></div>"
      ],
      "text/plain": [
       "EMEstimator(Fs=1000, alpha0=[0.99, 0.99, 0.99], am=np.float64(57.2),\n",
       "            beta=array([[1, 0, 1, 0, 1, 0]]), bm=2000, freq0=[1, 3, 5], mu0=-3,\n",
       "            n_oscillations=3, sigma0=[0.001, 0.001, 0.001],\n",
       "            x0=array([[ 0.00615151],\n",
       "       [ 0.00864995],\n",
       "       [-0.0061608 ],\n",
       "       [ 0.00960439],\n",
       "       [-0.00139633],\n",
       "       [-0.00123097]]))"
      ]
     },
     "execution_count": 41,
     "metadata": {},
     "output_type": "execute_result"
    }
   ],
   "source": [
    "model"
   ]
  },
  {
   "cell_type": "code",
   "execution_count": 41,
   "id": "41e9cb86-598e-4170-ab42-cd0ab497db86",
   "metadata": {},
   "outputs": [
    {
     "ename": "NameError",
     "evalue": "name 'alpha' is not defined",
     "output_type": "error",
     "traceback": [
      "\u001b[31m---------------------------------------------------------------------------\u001b[39m",
      "\u001b[31mNameError\u001b[39m                                 Traceback (most recent call last)",
      "\u001b[36mCell\u001b[39m\u001b[36m \u001b[39m\u001b[32mIn[41]\u001b[39m\u001b[32m, line 1\u001b[39m\n\u001b[32m----> \u001b[39m\u001b[32m1\u001b[39m alpha\n",
      "\u001b[31mNameError\u001b[39m: name 'alpha' is not defined"
     ]
    }
   ],
   "source": [
    "alpha"
   ]
  },
  {
   "cell_type": "code",
   "execution_count": 40,
   "id": "5c9ef0f8-673e-4bb6-802f-224ed910798d",
   "metadata": {},
   "outputs": [
    {
     "data": {
      "text/plain": [
       "<Axes: >"
      ]
     },
     "execution_count": 40,
     "metadata": {},
     "output_type": "execute_result"
    },
    {
     "data": {
      "image/png": "[encoded data removed]",
      "text/plain": [
       "<Figure size 640x480 with 1 Axes>"
      ]
     },
     "metadata": {},
     "output_type": "display_data"
    }
   ],
   "source": [
    "param_history.filter(regex='alp').loc[1:].plot()"
   ]
  },
  {
   "cell_type": "code",
   "execution_count": null,
   "id": "8dd609ad-c842-4eaf-a956-3b799934bb9a",
   "metadata": {},
   "outputs": [],
   "source": []
  },
  {
   "cell_type": "code",
   "execution_count": null,
   "id": "92e16683-5947-4a49-9ddf-ef4027849215",
   "metadata": {},
   "outputs": [],
   "source": []
  },
  {
   "cell_type": "code",
   "execution_count": null,
   "id": "db317b54-81d9-4ca3-9b06-835846c76708",
   "metadata": {},
   "outputs": [],
   "source": []
  },
  {
   "cell_type": "code",
   "execution_count": 1,
   "id": "74682d27-0288-4801-bafa-783ef945354f",
   "metadata": {},
   "outputs": [
    {
     "name": "stderr",
     "output_type": "stream",
     "text": [
      "\n",
      "KeyboardInterrupt\n",
      "\n"
     ]
    }
   ],
   "source": [
    "for i in np.array([2, 4]):\n",
    "    print(i, type(i))"
   ]
  },
  {
   "cell_type": "code",
   "execution_count": null,
   "id": "6d13a4c5-451f-4bfe-978c-5983b222c0b9",
   "metadata": {},
   "outputs": [],
   "source": [
    "-np.array(osc_F)"
   ]
  },
  {
   "cell_type": "code",
   "execution_count": null,
   "id": "cb3a1446-fd71-49de-8e67-b617ce6dadeb",
   "metadata": {},
   "outputs": [],
   "source": [
    "rotf(np.array([2,4]), 1000)"
   ]
  },
  {
   "cell_type": "code",
   "execution_count": null,
   "id": "1b93b210-4f9c-4daa-9a9d-34d016f53cff",
   "metadata": {},
   "outputs": [],
   "source": [
    "params_hat"
   ]
  },
  {
   "cell_type": "code",
   "execution_count": null,
   "id": "e135d333-8763-4613-b099-c71b0b03c3ec",
   "metadata": {},
   "outputs": [],
   "source": [
    "phi.shape"
   ]
  },
  {
   "cell_type": "code",
   "execution_count": null,
   "id": "dd98bf89-845e-456d-b8b5-be7e6a6e85d6",
   "metadata": {},
   "outputs": [],
   "source": [
    "error_log"
   ]
  },
  {
   "cell_type": "code",
   "execution_count": null,
   "id": "6da48914-c07c-4ca3-8cf6-5eb5e51ef8ed",
   "metadata": {},
   "outputs": [],
   "source": [
    "beta.shape"
   ]
  },
  {
   "cell_type": "code",
   "execution_count": null,
   "id": "46aaf2ab-b8be-4a86-a82f-c4409d27f344",
   "metadata": {},
   "outputs": [],
   "source": [
    "np.einsum('ij,jkl,ki->il', beta, P, beta.T).shape\n"
   ]
  },
  {
   "cell_type": "code",
   "execution_count": null,
   "id": "a6c401f9-1486-43ab-a764-4e0c66e1ec7b",
   "metadata": {},
   "outputs": [],
   "source": [
    "res = []\n",
    "for i in range(1000):\n",
    "    res.append(np.linalg.multi_dot([beta, P[..., i], beta.T]))\n",
    "(np.array(res).reshape(1,1000) == np.einsum('ij,jkl,ki->il', beta, P, beta.T)).all()"
   ]
  },
  {
   "cell_type": "code",
   "execution_count": null,
   "id": "0612815a-a7c1-4c8d-9571-da32808132ea",
   "metadata": {},
   "outputs": [],
   "source": [
    "for i in range(1000):\n",
    "    P = rng.random(size=(6,6, 1000))\n",
    "    BGG  = rng.random(size=(6,6, 1000))\n",
    "    checcccc = (np.einsum('ijk,kjl->kil', P[:, :, 1:], BGG[:, :, :-1].T)== np.matmul(np.transpose(P[:, :, 1:], axes=(2,0,1)), np.transpose(BGG[:, :, :-1], axes=[2,1,0]))).all()\n",
    "    np.testing.assert_allclose(np.einsum('ijk,kjl->ilk', P[:, :, 1:], BGG[:, :, :-1].T).sum(axis=-1), np.matmul(np.transpose(P[:, :, 1:], axes=(2,0,1)), np.transpose(BGG[:, :, :-1], axes=[2,1,0])).sum(axis=0))\n",
    "    if not checcccc:\n",
    "        print(i)"
   ]
  },
  {
   "cell_type": "code",
   "execution_count": null,
   "id": "4cf098b1-6fd0-4ce4-842c-90f665ac805c",
   "metadata": {},
   "outputs": [],
   "source": []
  },
  {
   "cell_type": "code",
   "execution_count": null,
   "id": "ef73d8bb-6432-47ad-a00d-4c539f150030",
   "metadata": {},
   "outputs": [],
   "source": [
    "P = rng.random(size=(6,6, 1000))\n",
    "BGG  = rng.random(size=(6,6, 1000))\n",
    "XB = rng.random(size=(6, 1000))\n",
    "mu_sum = np.dot(beta, XB) + np.einsum('ij,jkl,ki->il', beta, P, beta.T)"
   ]
  },
  {
   "cell_type": "code",
   "execution_count": null,
   "id": "29c297e9-4a1b-4765-86e9-f1e96bad2c9b",
   "metadata": {},
   "outputs": [],
   "source": []
  },
  {
   "cell_type": "code",
   "execution_count": null,
   "id": "1b5a6780-8b89-424a-8c43-2070d4b47d35",
   "metadata": {},
   "outputs": [],
   "source": [
    "X.shape"
   ]
  },
  {
   "cell_type": "code",
   "execution_count": null,
   "id": "ab2d11af-dfbe-49bc-a0c0-0ef9a8c1d46a",
   "metadata": {},
   "outputs": [],
   "source": [
    "jac = -np.dot(phi, X[:, 3] - X[:, 2])\n",
    "jac += (y[:, 2] - np.exp(mu + np.dot(beta,X[:, 3])))*beta.T"
   ]
  },
  {
   "cell_type": "code",
   "execution_count": null,
   "id": "6afee7c7-f8a6-4972-a37c-0edaa3449cc2",
   "metadata": {},
   "outputs": [],
   "source": [
    "x = x0.copy().reshape(-1, 1)\n",
    "dot2 = (-1/2)*np.linalg.multi_dot([(x - X[:, 2:3]).T, phi, x - X[:, 2:3]])\n",
    "L = y[:, 3]*(mu + np.dot(beta,x)) - np.exp(mu + np.dot(beta,x)) + dot2\n",
    "L.item()"
   ]
  },
  {
   "cell_type": "code",
   "execution_count": null,
   "id": "bb7fef91-c21a-4815-9963-7b7f711a473b",
   "metadata": {},
   "outputs": [],
   "source": [
    "x = x.reshape(-1, 1)\n",
    "jac = -np.dot(phi, x - X[:, 2:3])\n",
    "jac += (y[:, 3] - np.exp(mu + np.dot(beta,x)))*beta.T\n",
    "jac, jac.item().shape"
   ]
  },
  {
   "cell_type": "code",
   "execution_count": null,
   "id": "0b8dfce8-b91a-46a7-8461-a47a25796f0a",
   "metadata": {},
   "outputs": [],
   "source": [
    "hess = -Pinv.copy() - np.exp(mu + np.dot(beta,x))*np.dot(beta.T, beta)"
   ]
  },
  {
   "cell_type": "code",
   "execution_count": null,
   "id": "f82bea5b-676b-4088-857f-24cd106ebf70",
   "metadata": {},
   "outputs": [],
   "source": []
  },
  {
   "cell_type": "code",
   "execution_count": null,
   "id": "56459651-222b-49aa-9435-f02c809b8a5a",
   "metadata": {},
   "outputs": [],
   "source": [
    "dot2 = (-1/2)*np.linalg.multi_dot([(X[:, 2] - X[:, 3]).T, phi, X[:, 2] - X[:, 3]])\n",
    "L = y[:, 1]*(mu + np.dot(beta,X[:, 2])) - np.exp(mu + np.dot(beta,X[:, 2])) + dot2"
   ]
  },
  {
   "cell_type": "code",
   "execution_count": null,
   "id": "7d0be58f-e2a6-4e92-9147-0b219443b176",
   "metadata": {},
   "outputs": [],
   "source": []
  },
  {
   "cell_type": "code",
   "execution_count": null,
   "id": "90c88211-47cc-44e7-b80b-9791dbc8ba8b",
   "metadata": {},
   "outputs": [],
   "source": [
    "model._rotf(model.freq0)"
   ]
  },
  {
   "cell_type": "code",
   "execution_count": null,
   "id": "8e81c015-e3f6-4aca-aad4-6e41ed86a47c",
   "metadata": {},
   "outputs": [],
   "source": [
    "del EMEstimator"
   ]
  },
  {
   "cell_type": "code",
   "execution_count": null,
   "id": "b1c704b7-836a-4e52-b1dc-e68b20a9720b",
   "metadata": {},
   "outputs": [],
   "source": []
  },
  {
   "cell_type": "code",
   "execution_count": null,
   "id": "fe09a6ee-6290-4295-ab3e-11e301230cfa",
   "metadata": {},
   "outputs": [],
   "source": []
  },
  {
   "cell_type": "code",
   "execution_count": null,
   "id": "a086ed51-c7bc-48ef-a03b-2400e3b6424b",
   "metadata": {},
   "outputs": [],
   "source": [
    "np.round(np.exp(mu + np.dot(beta,X[:, 1:2]))*np.dot(beta.T, beta), 4)"
   ]
  },
  {
   "cell_type": "code",
   "execution_count": null,
   "id": "49c82d46-026e-454a-8c3b-b17ceba91d73",
   "metadata": {},
   "outputs": [],
   "source": [
    "from scipy.ndimage import gaussian_filter1d\n",
    "from scipy.signal import decimate\n",
    "\n",
    "y_smooth = gaussian_filter1d(y.astype(float), sigma=3)\n",
    "y_down = decimate(y_smooth, q=10)"
   ]
  },
  {
   "cell_type": "code",
   "execution_count": null,
   "id": "8b0a4723-bb2c-4b89-bc85-663537dc9cce",
   "metadata": {},
   "outputs": [],
   "source": [
    "f, Pxx = welch(y_down, Fs/10, scaling='density', detrend=False)\n",
    "plt.figure()\n",
    "plt.plot(f, Pxx)\n",
    "# plt.ylim([1e-4, 1e1])\n",
    "plt.xlim([0, 30])\n",
    "plt.xlabel('frequency [Hz]')\n",
    "plt.ylabel('Linear spectrum [V RMS]')\n",
    "plt.show()"
   ]
  },
  {
   "cell_type": "code",
   "execution_count": null,
   "id": "8f89460c-fdd2-423a-b11d-6d98d51b6842",
   "metadata": {},
   "outputs": [],
   "source": []
  },
  {
   "cell_type": "code",
   "execution_count": null,
   "id": "b4ca7b78-2b42-41f2-a68e-e1f4af4b44e7",
   "metadata": {},
   "outputs": [],
   "source": []
  },
  {
   "cell_type": "code",
   "execution_count": null,
   "id": "9e9cfcb8-83ec-44ad-8c27-fbfc8055c1ea",
   "metadata": {},
   "outputs": [],
   "source": [
    "from scipy.signal import find_peaks\n",
    "\n",
    "peaks, prop = find_peaks(Pxx, height=np.max(Pxx)*0.001)\n",
    "freq_estimates = f[peaks]\n"
   ]
  },
  {
   "cell_type": "code",
   "execution_count": null,
   "id": "1f0c86f5-7c57-43ea-bb91-64f9b3b590ed",
   "metadata": {},
   "outputs": [],
   "source": [
    "freq_estimates = [f[a] for _, a in sorted(zip(prop['peak_heights'], peaks), reverse=True)][:D]"
   ]
  },
  {
   "cell_type": "code",
   "execution_count": null,
   "id": "ca2cd677-8ff9-4eb4-9820-cedbf8ba57d7",
   "metadata": {},
   "outputs": [],
   "source": [
    "freq_estimates"
   ]
  },
  {
   "cell_type": "code",
   "execution_count": null,
   "id": "36c46ecf-4a4f-4192-8c5a-281b976771fb",
   "metadata": {},
   "outputs": [],
   "source": []
  },
  {
   "cell_type": "code",
   "execution_count": null,
   "id": "c97c4f36-1a27-40d6-ade7-ee7dd8bbea42",
   "metadata": {},
   "outputs": [],
   "source": [
    "R_full"
   ]
  },
  {
   "cell_type": "code",
   "execution_count": null,
   "id": "fe25949f-84fa-4352-a327-69047adad81b",
   "metadata": {},
   "outputs": [],
   "source": [
    "beta.reshape(1, -1).shape"
   ]
  },
  {
   "cell_type": "code",
   "execution_count": null,
   "id": "7e7578ea-a31d-4096-9b8b-17a79bb78a3d",
   "metadata": {},
   "outputs": [],
   "source": [
    "np.dot(beta.reshape(1, -1).T, beta.reshape(1, -1))"
   ]
  },
  {
   "cell_type": "code",
   "execution_count": null,
   "id": "984fb56c-f470-4fc1-aec1-579d56f9083a",
   "metadata": {},
   "outputs": [],
   "source": [
    "beta = beta.reshape(1,-1)\n",
    "jac = -np.dot(phi, X[:, 1:2] - X[:, 2:3])\n",
    "jac += (1 - np.exp(mu + np.dot(beta,X[:, 1:2])))*beta.T\n",
    "jac\n"
   ]
  },
  {
   "cell_type": "code",
   "execution_count": null,
   "id": "db8ed824-d4e2-490a-aff0-5d43c1ab7ad0",
   "metadata": {},
   "outputs": [],
   "source": [
    "dot2 = (-1/2)*np.linalg.multi_dot([(X[:, 1:2] - X[:, 2:3]).T, phi, (X[:, 1:2] - X[:, 2:3])])\n",
    "L = 1*(mu + np.dot(beta,X[:, 1:2])) - np.exp(mu + np.dot(beta,X[:, 1:2])) + dot2\n",
    "L, L.shape"
   ]
  },
  {
   "cell_type": "code",
   "execution_count": null,
   "id": "eb8caeb3-6708-4ccf-b3bd-f50510f2dc16",
   "metadata": {},
   "outputs": [],
   "source": [
    "hess = -phi.copy()\n",
    "hess -= np.exp(mu + np.dot(beta,X[:, 1:2]))*np.dot(beta.T, beta)\n",
    "hess.shape"
   ]
  },
  {
   "cell_type": "code",
   "execution_count": null,
   "id": "5f20ad44-cd0e-4ab2-8b89-8ebb0eef3808",
   "metadata": {},
   "outputs": [],
   "source": [
    "from EM_sk import EMEstimator"
   ]
  },
  {
   "cell_type": "code",
   "execution_count": null,
   "id": "1addfd40-2318-4900-aca3-905a8ab7207a",
   "metadata": {},
   "outputs": [],
   "source": [
    "cls = EMEstimator(x0, mu, alphas, sigmas, osc_F, beta=1, Fs=Fs, gamma=1e3, method='trust-krylov', max_iter=20)"
   ]
  },
  {
   "cell_type": "code",
   "execution_count": null,
   "id": "507fbf59-b625-4200-96b2-95820b3221a9",
   "metadata": {},
   "outputs": [],
   "source": []
  },
  {
   "cell_type": "code",
   "execution_count": null,
   "id": "73e0702e-b2f8-45f3-a224-56a8dc01f2dd",
   "metadata": {},
   "outputs": [],
   "source": []
  },
  {
   "cell_type": "code",
   "execution_count": null,
   "id": "3380e8c7-adea-4653-ab16-d28aa60c9015",
   "metadata": {},
   "outputs": [],
   "source": []
  },
  {
   "cell_type": "code",
   "execution_count": null,
   "id": "5df16aad-36d5-43c3-a0c5-c29132feb98b",
   "metadata": {},
   "outputs": [],
   "source": []
  },
  {
   "cell_type": "code",
   "execution_count": null,
   "id": "f53168d0-8a3d-4ca6-81b1-48255fb721a5",
   "metadata": {},
   "outputs": [],
   "source": []
  },
  {
   "cell_type": "code",
   "execution_count": null,
   "id": "5534cd19-64a1-4796-9bd2-13a012e91862",
   "metadata": {},
   "outputs": [],
   "source": []
  },
  {
   "cell_type": "code",
   "execution_count": null,
   "id": "1291e798-0efd-429f-a747-8350718fe26e",
   "metadata": {},
   "outputs": [],
   "source": []
  }
 ],
 "metadata": {
  "kernelspec": {
   "display_name": "Python 3 (ipykernel)",
   "language": "python",
   "name": "python3"
  },
  "language_info": {
   "codemirror_mode": {
    "name": "ipython",
    "version": 3
   },
   "file_extension": ".py",
   "mimetype": "text/x-python",
   "name": "python",
   "nbconvert_exporter": "python",
   "pygments_lexer": "ipython3",
   "version": "3.13.2"
  }
 },
 "nbformat": 4,
 "nbformat_minor": 5
}
